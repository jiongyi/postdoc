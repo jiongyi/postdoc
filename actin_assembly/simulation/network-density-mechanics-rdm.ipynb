{
 "cells": [
  {
   "cell_type": "markdown",
   "metadata": {},
   "source": [
    "# Network density and mechanics\n",
    "\n",
    "Let $[E]$ be the concentration of barbed ends and $[WA]$ the concentration of activated nucleation promoting factors. $k_N$, $k_P$, and $k_A$ are the rates of nucleation, polymerization, and activation respectively. The rate equations describing the changes in barbed-end concentration over time are then:\n",
    "\n",
    "\\begin{align*}\n",
    "\\frac{d[E]}{dt} &= k_N[E][WA]-k_C[E] \\\\\n",
    "\\frac{d[WA]}{dt} &= -k_N[E][WA]-k_P[E][WA]+k_A\\left(W_0-[WA]\\right) \\\\\n",
    "\\end{align*}\n",
    "\n",
    "$[W_0]$ is the maximum concentration of activated nucleation promoting factors. At steady state, $\\frac{d[E]}{dt} = 0$ and $\\frac{d[WA]}{dt} = 0$. In addition, $[E]$ is never zero, so:\n",
    "\n",
    "\\begin{align*}\n",
    "0 &= k_N [E][WA] - k_C [E] \\\\\n",
    "[WA] &= \\frac{k_C}{k_N} \\\\\n",
    "0 &= k_A (W_0 - [WA]) - k_N [E][WA] - k_P [E][WA] \\\\\n",
    "0 &= k_A (W_0 - \\frac{k_C}{k_N}) - \\frac{ k_C (k_N + k_P)}{k_N} [E] \\\\\n",
    "[E] &= \\frac{k_A (W_0 k_N - k_C)}{k_C (k_N + k_P)} \\\\\n",
    "\\end{align*}\n",
    "\n",
    "If we assume that $k_P >> k_N$, then we obtain:\n",
    "\n",
    "\\begin{align*}\n",
    "[E] &= \\frac{k_A (W_0 k_N - k_C)}{k_C k_P}\n",
    "\\end{align*}\n",
    "\n",
    "Requiring $(W_0 k_N - k_C) > 0$ indicates the minimum concentration of nucleation promoting factors required to assemble a network for given concentrations of Arp2/3 complex and capping protein, which set $k_N$ and $k_C$ respectively.\n",
    "\n",
    "## Force dependence\n",
    "\n",
    "During growth, polymerization and capping rates are slowed down by the average force $F$ exerted on each filament at the leading edge:\n",
    "\n",
    "\\begin{align*}\n",
    "k_P (F) &= k_P \\exp (-F\\delta / k_B T) \\\\\n",
    "k_C (F) &= k_C \\exp (-F\\delta / k_B T) \\\\\n",
    "\\end{align*}\n",
    "\n",
    "A single $\\delta$ value can be used for both expressions because an actin monomer and a capping protein heterodimer happen to have similar dimensions. As a result, average filament length $\\frac{k_P}{k_C}$ does not change with network load. $k_B$ is Boltzmann's constant, and $T$ the temperature. If we account for force dependence, then the steady-state concentration of barbed ends is approximately linearly proportional to the applied load:\n",
    "\n",
    "\\begin{align*}\n",
    "E(F) &= \\frac{k_A}{k_P(F)}(W_0 \\frac{k_N}{k_C(F)} - 1) \\\\\n",
    "\\end{align*}\n",
    "\n",
    "If we let $F\\delta / k_B T = f$:\n",
    "\n",
    "\\begin{align*}\n",
    "E(F) &= W_0 \\frac{k_A k_N}{k_P k_C} \\exp (2f) - \\frac{k_A}{k_P} \\exp (f) \\\\\n",
    "\\end{align*}\n",
    "\n",
    "If we assume that $f$ is relatively small, a Taylor expansion yields:\n",
    "\n",
    "\\begin{align*}\n",
    "E(F) &\\approx W_0 \\frac{k_A k_N}{k_P k_C} (1 + 2f) - \\frac{k_A}{k_P} (1 + f) \\\\\n",
    "E(F) &\\approx W_0 \\frac{k_A k_N}{k_P k_C} - \\frac{k_A}{k_P} + (W_0 \\frac{k_A k_N}{k_P k_C} - \\frac{k_A}{k_P} + W_0 \\frac{k_A k_N}{k_P k_C} )f\n",
    "\\end{align*}\n",
    "Realizing that $E(0) = W_0 \\frac{k_A k_N}{k_P k_C} - \\frac{k_A}{k_P}$, we obtain:\n",
    "\\begin{align*}\n",
    "E(F) &\\approx E(0) + (E(0) + W_0 \\frac{k_A k_N}{k_P k_C})f \\\\\n",
    "\\end{align*}"
   ]
  }
 ],
 "metadata": {
  "kernelspec": {
   "display_name": "Python 3",
   "language": "python",
   "name": "python3"
  },
  "language_info": {
   "codemirror_mode": {
    "name": "ipython",
    "version": 3
   },
   "file_extension": ".py",
   "mimetype": "text/x-python",
   "name": "python",
   "nbconvert_exporter": "python",
   "pygments_lexer": "ipython3",
   "version": "3.8.8"
  }
 },
 "nbformat": 4,
 "nbformat_minor": 4
}
