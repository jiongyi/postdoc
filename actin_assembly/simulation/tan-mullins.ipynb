{
 "cells": [
  {
   "cell_type": "markdown",
   "metadata": {},
   "source": [
    "# Nucleation model in development\n",
    "\n",
    "## Updates wishlist\n",
    "\n",
    "- Model should predict monomer-gating effects (Akin and Mullins, Cell, 2008).\n",
    "- Model should incorporate polymeraze activity of the polyproline-rich regions of WASP family nucleation promoting factors (Bieling et al., EMBO J., 2017).\n",
    "- Model should describe the activation steps revealed in single-molecule fluorescence work from the Rosen labs and colleagues (Smith et al., eLife, 2013)\n",
    "- Model should describe force-dependence in Bieling et al., Cell, 2016."
   ]
  },
  {
   "cell_type": "code",
   "execution_count": 1,
   "metadata": {
    "colab": {
     "autoexec": {
      "startup": false,
      "wait_interval": 0
     },
     "base_uri": "https://localhost:8080/",
     "height": 516,
     "output_extras": [
      {
       "item_id": 1
      },
      {
       "item_id": 2
      },
      {
       "item_id": 3
      }
     ]
    },
    "colab_type": "code",
    "executionInfo": {
     "elapsed": 33919,
     "status": "ok",
     "timestamp": 1521874767126,
     "user": {
      "displayName": "Jiongyi Tan",
      "photoUrl": "https://lh3.googleusercontent.com/a/default-user=s128",
      "userId": "104250426221569700734"
     },
     "user_tz": 420
    },
    "id": "xt3QoQYDzYro",
    "outputId": "8729250b-4aee-4a18-833b-104bafea69e1"
   },
   "outputs": [],
   "source": [
    "import datetime\n",
    "from tanMullins import *\n",
    "from numpy import invert\n",
    "import matplotlib\n",
    "matplotlib.use(\"Agg\")\n",
    "import matplotlib.pyplot as plt\n",
    "from matplotlib.animation import FFMpegWriter"
   ]
  },
  {
   "cell_type": "code",
   "execution_count": 2,
   "metadata": {},
   "outputs": [],
   "source": [
    "# Initialize actin network.\n",
    "actinNetwork = network()\n",
    "# Initialize figure.\n",
    "fig, ax = plt.subplots()\n",
    "ax.plot([actinNetwork.xPointArr, actinNetwork.xBarbArr], [actinNetwork.yPointArr, actinNetwork.yBarbArr], 'b')\n",
    "ax.set_xlim(0.0, 5000.0)\n",
    "ax.set_ylim(0.0, 1000.0)\n",
    "ax.set_xlabel(\"x (nm)\", fontsize = 18)\n",
    "ax.set_ylabel(\"y (nm)\", fontsize = 18)\n",
    "\n",
    "# Animate.\n",
    "framesPerSecond = 24\n",
    "writer = FFMpegWriter(fps = framesPerSecond)\n",
    "with writer.saving(fig, \"network_\" + datetime.datetime.now().isoformat() + \".mp4\", dpi = 100):\n",
    "    while actinNetwork.t <= actinNetwork.totalTime:\n",
    "        nextTime = actinNetwork.t + 1.0 / framesPerSecond\n",
    "        while actinNetwork.t < nextTime:\n",
    "            actinNetwork.update()\n",
    "        del ax.lines[:]\n",
    "        for i in range(actinNetwork.N):\n",
    "            if actinNetwork.isCappedArr[i] == False:\n",
    "                filColor = 'b'\n",
    "            else:\n",
    "                filColor = 'r'\n",
    "            ax.plot([actinNetwork.xPointArr[i], actinNetwork.xBarbArr[i]], [actinNetwork.yPointArr[i], actinNetwork.yBarbArr[i]], filColor)\n",
    "        ax.plot([actinNetwork.xNpfArr[actinNetwork.isPolProLoadedArr]], [actinNetwork.yNpfArr[actinNetwork.isPolProLoadedArr]],\n",
    "                '.', markeredgecolor = 'k', markerfacecolor = 'w')\n",
    "        ax.plot([actinNetwork.xNpfArr[actinNetwork.isWH2LoadedArr]], [actinNetwork.yNpfArr[actinNetwork.isWH2LoadedArr]], 'k.')\n",
    "        writer.grab_frame()"
   ]
  },
  {
   "cell_type": "code",
   "execution_count": null,
   "metadata": {},
   "outputs": [],
   "source": []
  }
 ],
 "metadata": {
  "colab": {
   "collapsed_sections": [],
   "default_view": {},
   "name": "branched-actin-assembly",
   "provenance": [],
   "version": "0.3.2",
   "views": {}
  },
  "kernelspec": {
   "display_name": "Python 3",
   "language": "python",
   "name": "python3"
  },
  "language_info": {
   "codemirror_mode": {
    "name": "ipython",
    "version": 3
   },
   "file_extension": ".py",
   "mimetype": "text/x-python",
   "name": "python",
   "nbconvert_exporter": "python",
   "pygments_lexer": "ipython3",
   "version": "3.8.8"
  }
 },
 "nbformat": 4,
 "nbformat_minor": 4
}
