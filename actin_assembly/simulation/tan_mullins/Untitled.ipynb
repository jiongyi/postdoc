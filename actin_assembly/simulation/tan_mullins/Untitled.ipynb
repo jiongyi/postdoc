{
 "cells": [
  {
   "cell_type": "code",
   "execution_count": 1,
   "id": "91622e03",
   "metadata": {},
   "outputs": [],
   "source": [
    "from nucleation import *"
   ]
  },
  {
   "cell_type": "code",
   "execution_count": 2,
   "id": "c56a7433",
   "metadata": {},
   "outputs": [],
   "source": [
    "actin_network = Network()"
   ]
  },
  {
   "cell_type": "code",
   "execution_count": 3,
   "id": "9e78be8d",
   "metadata": {},
   "outputs": [],
   "source": [
    "actin_network.branch(0)"
   ]
  },
  {
   "cell_type": "code",
   "execution_count": 4,
   "id": "283b663a",
   "metadata": {},
   "outputs": [
    {
     "data": {
      "text/plain": [
       "603"
      ]
     },
     "execution_count": 4,
     "metadata": {},
     "output_type": "execute_result"
    }
   ],
   "source": [
    "actin_network.barbed_xyz_mat.size"
   ]
  },
  {
   "cell_type": "code",
   "execution_count": null,
   "id": "be2fab8a",
   "metadata": {},
   "outputs": [],
   "source": []
  }
 ],
 "metadata": {
  "kernelspec": {
   "display_name": "Python 3",
   "language": "python",
   "name": "python3"
  },
  "language_info": {
   "codemirror_mode": {
    "name": "ipython",
    "version": 3
   },
   "file_extension": ".py",
   "mimetype": "text/x-python",
   "name": "python",
   "nbconvert_exporter": "python",
   "pygments_lexer": "ipython3",
   "version": "3.8.8"
  }
 },
 "nbformat": 4,
 "nbformat_minor": 5
}
