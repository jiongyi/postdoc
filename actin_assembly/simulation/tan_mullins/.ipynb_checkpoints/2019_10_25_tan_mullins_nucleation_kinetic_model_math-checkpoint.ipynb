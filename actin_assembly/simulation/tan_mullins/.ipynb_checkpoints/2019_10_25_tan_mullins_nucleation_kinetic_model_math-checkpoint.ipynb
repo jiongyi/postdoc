{
 "cells": [
  {
   "cell_type": "markdown",
   "metadata": {
    "slideshow": {
     "slide_type": "slide"
    }
   },
   "source": [
    "# Rate equations\n",
    "\n",
    "$[PA]$: density of poly-proline-rich sequences occupied by profilin-actin complexes.\n",
    "\n",
    "$[WA]$: density of WH2 domains occupied by actin monomers.\n",
    "\n",
    "$[E]$: concentration of free (uncapped) actin barbed ends.\n",
    "\n",
    "\\begin{align}\n",
    "\\frac{d[PA]}{dt} &= k_L ([PA]_{max} - [PA])- k_T [PA]([WA]_{max} - [WA]) - k_P [E][PA] \\\\\n",
    "\\frac{d[WA]}{dt} &= k_T [PA] ([WA]_{max} - [WA]) - k_N [E][WA]^2 - k_P [E][WA] \\\\\n",
    "\\frac{d[E]}{dt} &= k_N [E] [WA]^2 - k_C [E]\n",
    "\\end{align}"
   ]
  },
  {
   "cell_type": "markdown",
   "metadata": {
    "slideshow": {
     "slide_type": "slide"
    }
   },
   "source": [
    "# Steady state solution\n",
    "\n",
    "At equilibrium:\n",
    "\n",
    "\\begin{align}\n",
    "\\frac{d[PA]}{dt} &= 0 \\\\\n",
    "\\frac{d[WA]}{dt} &= 0 \\\\\n",
    "\\frac{d[E]}{dt} &= 0\n",
    "\\end{align}\n",
    "\n",
    "Let us assume that $[E] \\neq 0$, so:\n",
    "\n",
    "\\begin{align}\n",
    "0 &= k_N [WA]^2_{eq} - k_C \\\\\n",
    "[WA]^2_{eq} &= \\frac{k_C}{k_N} \\\\\n",
    "[WA]_{eq} &= \\sqrt{\\frac{k_C}{k_N}}\n",
    "\\end{align}"
   ]
  },
  {
   "cell_type": "markdown",
   "metadata": {
    "slideshow": {
     "slide_type": "slide"
    }
   },
   "source": [
    "Inserting this equation into the first two yields:\n",
    "\n",
    "\\begin{align}\n",
    "0 &= k_L ([PA]_{max} - [PA]_{eq}) - k_T [PA_{eq}] ([WA]_{max} - \\sqrt{\\frac{k_C}{k_N}}) - k_P [E]_{eq} [PA]_{eq} \\\\\n",
    "0 &= k_T [PA]_{eq} ([WA]_{max} - \\sqrt{\\frac{k_C}{k_N}}) - k_C [E]_{eq} - k_P \\sqrt{\\frac{k_C}{k_N}} [E]_{eq} \\\\\n",
    "\\end{align}\n",
    "\n",
    "Rearranging terms gives:\n",
    "\n",
    "\\begin{align}\n",
    "[PA]_{eq} &= \\frac{k_L [PA]_{max}}{k_L  + k_T ([WA]_{max} - \\sqrt{\\frac{k_C}{k_N}}) + k_P [E]_{eq}} \\\\\n",
    "[PA]_{eq} &= \\frac{k_C + k_P \\sqrt{\\frac{k_C}{k_N}}}{k_T ([WA]_{max} - \\sqrt{\\frac{k_C}{k_N}})} [E]_{eq}\n",
    "\\end{align}"
   ]
  },
  {
   "cell_type": "markdown",
   "metadata": {
    "slideshow": {
     "slide_type": "slide"
    }
   },
   "source": [
    "Combining to solve for $[E]_{eq}$\n",
    "\\begin{align}\n",
    "\\frac{k_L [PA]_{max}}{k_L  + k_T ([WA]_{max} - \\sqrt{\\frac{k_C}{k_N}}) + k_P [E]_{eq}} &= \\frac{k_C + k_P \\sqrt{\\frac{k_C}{k_N}}}{k_T ([WA]_{max} - \\sqrt{\\frac{k_C}{k_N}})} [E]_{eq} \\\\\n",
    "k_L k_T ([WA]_{max} - \\sqrt{\\frac{k_C}{k_N}}) [PA]_{max} &= (k_L + k_T ([WA]_{max} - \\sqrt{\\frac{k_C}{k_N}})(k_C + k_P \\sqrt{\\frac{k_C}{k_N}}) [E]_{eq} + k_P (k_C + k_P \\sqrt{\\frac{k_C}{k_N}}) [E]_{eq}^2\n",
    "\\end{align}\n",
    "\n",
    "This is a quadratic equation where:\n",
    "\\begin{align}\n",
    "[E]_{eq} &= \\frac{-b \\pm \\sqrt{b^2 - 4 a c}}{2 a} \\\\\n",
    "a &= k_P (k_C + k_P \\sqrt{\\frac{k_C}{k_N}}) \\\\\n",
    "b &= (k_L + k_T ([WA]_{max} - \\sqrt{\\frac{k_C}{k_N}})(k_C + k_P \\sqrt{\\frac{k_C}{k_N}}) \\\\\n",
    "c &= -k_L k_T ([WA]_{max} - \\sqrt{\\frac{k_C}{k_N}}) [PA]_{max}\n",
    "\\end{align}"
   ]
  },
  {
   "cell_type": "markdown",
   "metadata": {
    "slideshow": {
     "slide_type": "slide"
    }
   },
   "source": [
    "The model predicts how certain network properties such as nucleation rate and barbed-end density [depend](http://localhost:5006/tan_mullins_nucleation_bokeh_2) on rate constants related to the concentration of soluble components and NPF domain organization."
   ]
  }
 ],
 "metadata": {
  "celltoolbar": "Slideshow",
  "kernelspec": {
   "display_name": "Python 3",
   "language": "python",
   "name": "python3"
  },
  "language_info": {
   "codemirror_mode": {
    "name": "ipython",
    "version": 3
   },
   "file_extension": ".py",
   "mimetype": "text/x-python",
   "name": "python",
   "nbconvert_exporter": "python",
   "pygments_lexer": "ipython3",
   "version": "3.8.8"
  }
 },
 "nbformat": 4,
 "nbformat_minor": 4
}
