{
 "cells": [
  {
   "cell_type": "code",
   "execution_count": null,
   "id": "outside-tongue",
   "metadata": {},
   "outputs": [],
   "source": [
    "import numpy as np"
   ]
  },
  {
   "cell_type": "code",
   "execution_count": 2,
   "id": "subtle-capital",
   "metadata": {},
   "outputs": [],
   "source": [
    "def simulate_nucleator(npf_count = 1000):\n",
    "    # Kinetic parameters\n",
    "    actin_concentration = 5.0\n",
    "    wh2_loading_rate_constant = 10.0\n",
    "    wh2_loading_rate = actin_concentration * wh2_loading_rate_constant\n",
    "    ca_loading_rate_constant = wh2_loading_rate_constant / 1.7\n",
    "    arp23_concentration = 50e-3\n",
    "    ca_loading_rate = arp23_concentration * ca_loading_rate_constant\n",
    "    barbed_xy_mat = np.array([0, 0])\n",
    "    barbed_theta_row = 2 * np.pi * np.random.rand()\n",
    "    npf_xy_mat = 1000 * np.random.rand(npf_count, 2) - 500\n",
    "    is_wh2_loaded_row = np.zeros(npf_count, dtype = bool)\n",
    "    is_ca_loaded_row = np.zeros(npf_count, dtype = bool)\n",
    "    is_arp23_tethered_row = np.zeros(npf_count, dtype = bool)\n",
    "    "
   ]
  },
  {
   "cell_type": "markdown",
   "id": "extended-aaron",
   "metadata": {},
   "source": [
    "# Nucleations steps\n",
    "- Actin monomers have to get loaded on WH2 domains\n",
    "- Arp2/3 loaded on CA regions\n",
    "- Two sites on Arp2/3 for VCA\n",
    "- Discrete loading of Arp2/3 and actin monomers\n",
    "- Association rates for Arp2/3 from Rosen lab\n",
    "- If VCA loaded, barbed end prefers Arp2/3\n",
    "- Conformational change while barbed end is still bound to Arp2/3\n",
    "- Dyche: VCA preloaded with Arp2/3; maybe estimate from equilibrium how many VCA are preloaded\n",
    "- Is nucleation purely density dependent? Steps \n"
   ]
  }
 ],
 "metadata": {
  "kernelspec": {
   "display_name": "Python 3",
   "language": "python",
   "name": "python3"
  },
  "language_info": {
   "codemirror_mode": {
    "name": "ipython",
    "version": 3
   },
   "file_extension": ".py",
   "mimetype": "text/x-python",
   "name": "python",
   "nbconvert_exporter": "python",
   "pygments_lexer": "ipython3",
   "version": "3.8.8"
  }
 },
 "nbformat": 4,
 "nbformat_minor": 5
}
