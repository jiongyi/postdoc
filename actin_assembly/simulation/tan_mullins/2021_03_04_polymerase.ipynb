{
 "cells": [
  {
   "cell_type": "markdown",
   "id": "incredible-privilege",
   "metadata": {},
   "source": [
    "# Polymerase simulation\n",
    "- Initializes a barbed end at (0, 0) with a random orientation\n",
    "- Initializes a square domain bounded by [-500, 500] along x and y axes\n",
    "- Elongation from NPF-bound monomer is diffusion-rate limited."
   ]
  },
  {
   "cell_type": "code",
   "execution_count": 1,
   "id": "christian-musical",
   "metadata": {},
   "outputs": [],
   "source": [
    "# Imports\n",
    "%matplotlib inline\n",
    "import numpy as np\n",
    "import matplotlib.pyplot as plt"
   ]
  },
  {
   "cell_type": "code",
   "execution_count": 2,
   "id": "operating-seven",
   "metadata": {},
   "outputs": [],
   "source": [
    "def simulate_ppr_wh2_polymerase(actin_concentration = 1.0, npf_count = 1000):\n",
    "    # Set up variables and constants.\n",
    "    xy_mat = np.array([0.0, 0.0])\n",
    "    orientation_alpha = np.pi * np.random.rand()\n",
    "    dxdy_mat = np.array([np.cos(orientation_alpha), np.sin(orientation_alpha)])\n",
    "    length_increment = 2.7\n",
    "    diffusion_coefficient = 100\n",
    "    elongation_rate_constant = 5.0\n",
    "    loading_rate_constant = 10.0\n",
    "    dissociation_rate_constant = 3.0\n",
    "    elongation_rate = elongation_rate_constant * actin_concentration\n",
    "    loading_rate = loading_rate_constant * actin_concentration\n",
    "    npf_position_mat = 1000 * np.random.rand(npf_count, 2) - 500\n",
    "    is_ppr_loaded_row = np.zeros(npf_count, dtype = bool)\n",
    "    is_ppr_tethered_row = np.zeros(npf_count, dtype = bool)\n",
    "    is_wh2_loaded_row = np.zeros(npf_count, dtype = bool)\n",
    "    is_wh2_tethered_row = np.zeros(npf_count, dtype = bool)\n",
    "    # Kinetic Monte Carlo\n",
    "    time = 0.0\n",
    "    total_time = 20.0\n",
    "    from_solution = 0\n",
    "    from_surface = 0\n",
    "    while time < total_time:\n",
    "        distance_row = np.sqrt(np.sum((npf_position_mat - xy_mat)**2, axis = 1))\n",
    "        diffusion_rate_row = 4 * diffusion_coefficient / distance_row**2\n",
    "        ppr_loading_rate_row = loading_rate * ((is_ppr_loaded_row == False) & \n",
    "                                               (is_ppr_tethered_row == False))\n",
    "        ppr_unloading_rate_row = dissociation_rate_constant * ((is_ppr_loaded_row == True) & \n",
    "                                                               (is_ppr_tethered_row == False))\n",
    "        ppr_tethering_rate_row = diffusion_rate_row * ((is_ppr_tethered_row == False) &\n",
    "                                                       (is_ppr_loaded_row == True) & \n",
    "                                                       (is_wh2_tethered_row == False))\n",
    "        ppr_elongation_rate_row = 10 * dissociation_rate_constant * (is_ppr_tethered_row == True)\n",
    "        wh2_loading_rate_row = 5e-1 * dissociation_rate_constant * ((is_ppr_loaded_row) & \n",
    "                                                                    (is_ppr_tethered_row == False) & \n",
    "                                                                    (is_wh2_loaded_row == False) & \n",
    "                                                                    (is_wh2_tethered_row == False))\n",
    "        wh2_unloading_rate_row = dissociation_rate_constant  * ((is_wh2_loaded_row == True) & \n",
    "                                                                (is_wh2_tethered_row == False))\n",
    "        wh2_tethering_rate_row = diffusion_rate_row * ((is_wh2_tethered_row == False) & (is_ppr_tethered_row == False))\n",
    "        wh2_untethering_rate_row = dissociation_rate_constant * ((is_wh2_tethered_row == True) & (is_wh2_loaded_row == False))\n",
    "        wh2_elongation_rate_row = 10 * dissociation_rate_constant * ((is_wh2_tethered_row == True) & (is_wh2_loaded_row == True))\n",
    "        solution_elongation_rate_row = np.array([elongation_rate]) * (np.any(((is_ppr_tethered_row == False) | (is_wh2_tethered_row == False))))\n",
    "        transition_rate_row = np.hstack((ppr_loading_rate_row, \n",
    "                                         ppr_unloading_rate_row, \n",
    "                                         ppr_tethering_rate_row, \n",
    "                                         ppr_elongation_rate_row,\n",
    "                                         wh2_loading_rate_row,\n",
    "                                         wh2_unloading_rate_row,\n",
    "                                         wh2_tethering_rate_row,\n",
    "                                         wh2_untethering_rate_row,\n",
    "                                         wh2_elongation_rate_row, \n",
    "                                         solution_elongation_rate_row))\n",
    "        cumsum_transition_rate_row = np.cumsum(transition_rate_row)\n",
    "        random_rate = np.random.rand() * cumsum_transition_rate_row[-1]\n",
    "        rate_index = np.searchsorted(cumsum_transition_rate_row, random_rate)\n",
    "        quotient, remainder = np.divmod(rate_index, npf_count)\n",
    "        if quotient == 0:\n",
    "            is_ppr_loaded_row[remainder] = True\n",
    "        elif quotient == 1:\n",
    "            is_ppr_loaded_row[remainder] = False\n",
    "        elif quotient == 2:\n",
    "            is_ppr_tethered_row[remainder] = True\n",
    "        elif quotient == 3:\n",
    "            is_ppr_tethered_row[remainder] = False\n",
    "            xy_mat += length_increment * dxdy_mat\n",
    "        elif quotient == 4:\n",
    "            is_wh2_loaded_row[remainder] = True\n",
    "            is_ppr_loaded_row[remainder] = False\n",
    "        elif quotient == 5:\n",
    "            is_wh2_loaded_row[remainder] = False\n",
    "        elif quotient == 6:\n",
    "            is_wh2_tethered_row[remainder] = True\n",
    "        elif quotient == 7:\n",
    "            is_wh2_tethered_row[remainder] = False\n",
    "        elif quotient == 8:\n",
    "            xy_mat += length_increment * dxdy_mat\n",
    "            is_wh2_tethered_row[remainder] = False\n",
    "            is_wh2_loaded_row[remainder] = False\n",
    "            from_surface += 1\n",
    "        elif quotient == 9:\n",
    "            xy_mat += length_increment * dxdy_mat\n",
    "            from_solution += 1\n",
    "        random_number = np.random.rand()\n",
    "        time_increment = np.log(1 / random_number) / cumsum_transition_rate_row[-1]\n",
    "        time += time_increment\n",
    "        if xy_mat[0] > 500.0:\n",
    "            xy_mat[0] -= 1000.0\n",
    "        if xy_mat[0] < -500.0:\n",
    "            xy_mat[0] += 1000.0\n",
    "        if xy_mat[1] > 500.0:\n",
    "            xy_mat[1] -= 1000.0\n",
    "        if xy_mat[1] < -500.0:\n",
    "            xy_mat[1] += 1000.0\n",
    "    growth_rate = 60e-3 * length_increment * (from_solution + from_surface) / total_time\n",
    "    surface_solution_ratio = from_surface / from_solution\n",
    "    return growth_rate, surface_solution_ratio"
   ]
  },
  {
   "cell_type": "code",
   "execution_count": 3,
   "id": "published-referral",
   "metadata": {},
   "outputs": [],
   "source": [
    "no_points = 5\n",
    "no_replicates = 3\n",
    "npf_count_row = np.linspace(1000, 5000, no_points, dtype=int)\n",
    "growth_rate_row = np.zeros((no_points, no_replicates))\n",
    "surface_solution_ratio_row = np.zeros((no_points, no_replicates))\n",
    "for i in range(npf_count_row.size):\n",
    "    for j in range(no_replicates):\n",
    "        growth_rate_row[i, j], surface_solution_ratio_row[i, j] = simulate_ppr_wh2_polymerase(npf_count = npf_count_row[i])"
   ]
  },
  {
   "cell_type": "code",
   "execution_count": 4,
   "id": "looking-irish",
   "metadata": {},
   "outputs": [
    {
     "data": {
      "text/plain": [
       "Text(0, 0.5, 'Surface : solution monomer count')"
      ]
     },
     "execution_count": 4,
     "metadata": {},
     "output_type": "execute_result"
    },
    {
     "data": {
      "image/png": "[encoded data removed]",
      "text/plain": [
       "<Figure size 612x288 with 2 Axes>"
      ]
     },
     "metadata": {
      "needs_background": "light"
     },
     "output_type": "display_data"
    }
   ],
   "source": [
    "fig_hand, axes_hand = plt.subplots(nrows = 1, ncols = 2)\n",
    "fig_hand.set_figwidth(8.5)\n",
    "axes_hand[0].scatter(npf_count_row, growth_rate_row.mean(axis = 1))\n",
    "axes_hand[0].set_xlabel(\"NPF density ($\\mathrm{\\mu m^{-2}}$)\")\n",
    "axes_hand[0].set_ylabel(\"Growth rate ($\\mathrm{\\mu m}$ / min)\")\n",
    "axes_hand[1].scatter(npf_count_row, surface_solution_ratio_row.mean(axis = 1))\n",
    "axes_hand[1].set_xlabel(\"NPF density ($\\mathrm{\\mu m^{-2}}$)\")\n",
    "axes_hand[1].set_ylabel(\"Surface : solution monomer count\")"
   ]
  },
  {
   "cell_type": "markdown",
   "id": "spectacular-edition",
   "metadata": {},
   "source": [
    "# Tethering\n",
    "- Empty WH2 domains should tether barbed ends\n",
    "- Association rate could be diffusion-rate limited as well\n",
    "- What is the dissociation rate though?"
   ]
  }
 ],
 "metadata": {
  "kernelspec": {
   "display_name": "Python 3",
   "language": "python",
   "name": "python3"
  },
  "language_info": {
   "codemirror_mode": {
    "name": "ipython",
    "version": 3
   },
   "file_extension": ".py",
   "mimetype": "text/x-python",
   "name": "python",
   "nbconvert_exporter": "python",
   "pygments_lexer": "ipython3",
   "version": "3.8.8"
  }
 },
 "nbformat": 4,
 "nbformat_minor": 5
}
