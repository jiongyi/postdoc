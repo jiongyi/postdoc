{
 "cells": [
  {
   "cell_type": "code",
   "execution_count": 1,
   "id": "fadb7325",
   "metadata": {},
   "outputs": [],
   "source": [
    "from bead_motility import *"
   ]
  },
  {
   "cell_type": "code",
   "execution_count": 3,
   "id": "e0b715c5",
   "metadata": {},
   "outputs": [],
   "source": [
    "egfp100_folder = '/home/jiongyi/Documents/lab_data/wasp_kinetics_architecture/n_wasp/2021_04_07/100nM_240min_pwwca'\n",
    "egfp75_folder = '/home/jiongyi/Documents/lab_data/wasp_kinetics_architecture/n_wasp/2021_04_07/75nM_240min_pwwca'\n",
    "egfp50_folder = '/home/jiongyi/Documents/lab_data/wasp_kinetics_architecture/n_wasp/2021_04_07/50nM_240min_pwwca'\n",
    "egfp25_folder = '/home/jiongyi/Documents/lab_data/wasp_kinetics_architecture/n_wasp/2021_04_07/25nM_240min_pwwca'"
   ]
  },
  {
   "cell_type": "code",
   "execution_count": 5,
   "id": "c6228161",
   "metadata": {},
   "outputs": [
    {
     "name": "stdout",
     "output_type": "stream",
     "text": [
      "No beads found\n"
     ]
    },
    {
     "ename": "KeyboardInterrupt",
     "evalue": "",
     "output_type": "error",
     "traceback": [
      "\u001b[0;31m---------------------------------------------------------------------------\u001b[0m",
      "\u001b[0;31mKeyboardInterrupt\u001b[0m                         Traceback (most recent call last)",
      "\u001b[0;32m<ipython-input-5-0ffc450ddf10>\u001b[0m in \u001b[0;36m<module>\u001b[0;34m\u001b[0m\n\u001b[1;32m      1\u001b[0m \u001b[0megfp100_df\u001b[0m \u001b[0;34m=\u001b[0m \u001b[0mbatch_analysis\u001b[0m\u001b[0;34m(\u001b[0m\u001b[0megfp100_folder\u001b[0m\u001b[0;34m,\u001b[0m \u001b[0msave_segmentation\u001b[0m\u001b[0;34m=\u001b[0m\u001b[0;32mTrue\u001b[0m\u001b[0;34m)\u001b[0m\u001b[0;34m\u001b[0m\u001b[0;34m\u001b[0m\u001b[0m\n\u001b[0;32m----> 2\u001b[0;31m \u001b[0megfp75_folder\u001b[0m \u001b[0;34m=\u001b[0m \u001b[0mbatch_analysis\u001b[0m\u001b[0;34m(\u001b[0m\u001b[0megfp75_folder\u001b[0m\u001b[0;34m,\u001b[0m \u001b[0msave_segmentation\u001b[0m\u001b[0;34m=\u001b[0m\u001b[0;32mTrue\u001b[0m\u001b[0;34m)\u001b[0m\u001b[0;34m\u001b[0m\u001b[0;34m\u001b[0m\u001b[0m\n\u001b[0m\u001b[1;32m      3\u001b[0m \u001b[0megfp50_folder\u001b[0m \u001b[0;34m=\u001b[0m \u001b[0mbatch_analysis\u001b[0m\u001b[0;34m(\u001b[0m\u001b[0megfp50_folder\u001b[0m\u001b[0;34m,\u001b[0m \u001b[0msave_segmentation\u001b[0m\u001b[0;34m=\u001b[0m\u001b[0;32mTrue\u001b[0m\u001b[0;34m)\u001b[0m\u001b[0;34m\u001b[0m\u001b[0;34m\u001b[0m\u001b[0m\n\u001b[1;32m      4\u001b[0m \u001b[0megfp25_folder\u001b[0m \u001b[0;34m=\u001b[0m \u001b[0mbatch_analysis\u001b[0m\u001b[0;34m(\u001b[0m\u001b[0megfp25_folder\u001b[0m\u001b[0;34m,\u001b[0m \u001b[0msave_segmentation\u001b[0m\u001b[0;34m=\u001b[0m\u001b[0;32mTrue\u001b[0m\u001b[0;34m)\u001b[0m\u001b[0;34m\u001b[0m\u001b[0;34m\u001b[0m\u001b[0m\n",
      "\u001b[0;32m~/github/postdoc/actin_assembly/bead_motility/bead_motility.py\u001b[0m in \u001b[0;36mbatch_analysis\u001b[0;34m(folder_path_str, save_segmentation)\u001b[0m\n\u001b[1;32m    278\u001b[0m         \u001b[0mc0_mean_back_fluor\u001b[0m \u001b[0;34m=\u001b[0m \u001b[0mc0_im\u001b[0m\u001b[0;34m[\u001b[0m\u001b[0;34m~\u001b[0m\u001b[0mbead_bw_im\u001b[0m\u001b[0;34m]\u001b[0m\u001b[0;34m.\u001b[0m\u001b[0mmean\u001b[0m\u001b[0;34m(\u001b[0m\u001b[0;34m)\u001b[0m\u001b[0;34m\u001b[0m\u001b[0;34m\u001b[0m\u001b[0m\n\u001b[1;32m    279\u001b[0m         \u001b[0mc1_mean_back_fluor\u001b[0m \u001b[0;34m=\u001b[0m \u001b[0mc1_im\u001b[0m\u001b[0;34m[\u001b[0m\u001b[0;34m~\u001b[0m\u001b[0mcomposite_bw_im\u001b[0m\u001b[0;34m]\u001b[0m\u001b[0;34m.\u001b[0m\u001b[0mmean\u001b[0m\u001b[0;34m(\u001b[0m\u001b[0;34m)\u001b[0m\u001b[0;34m\u001b[0m\u001b[0;34m\u001b[0m\u001b[0m\n\u001b[0;32m--> 280\u001b[0;31m         \u001b[0mc2_mean_back_fluor\u001b[0m \u001b[0;34m=\u001b[0m \u001b[0mc2_im\u001b[0m\u001b[0;34m[\u001b[0m\u001b[0;34m~\u001b[0m\u001b[0mcomposite_bw_im\u001b[0m\u001b[0;34m]\u001b[0m\u001b[0;34m.\u001b[0m\u001b[0mmean\u001b[0m\u001b[0;34m(\u001b[0m\u001b[0;34m)\u001b[0m\u001b[0;34m\u001b[0m\u001b[0;34m\u001b[0m\u001b[0m\n\u001b[0m\u001b[1;32m    281\u001b[0m         \u001b[0;31m# Set up property arrays.\u001b[0m\u001b[0;34m\u001b[0m\u001b[0;34m\u001b[0m\u001b[0;34m\u001b[0m\u001b[0m\n\u001b[1;32m    282\u001b[0m         \u001b[0mnpf_fluor_row\u001b[0m \u001b[0;34m=\u001b[0m \u001b[0mzeros\u001b[0m\u001b[0;34m(\u001b[0m\u001b[0mno_beads\u001b[0m\u001b[0;34m)\u001b[0m\u001b[0;34m\u001b[0m\u001b[0;34m\u001b[0m\u001b[0m\n",
      "\u001b[0;32m~/github/postdoc/actin_assembly/bead_motility/bead_motility.py\u001b[0m in \u001b[0;36mcomet_tail_props\u001b[0;34m(file_path_str, save_segmentation)\u001b[0m\n\u001b[1;32m    169\u001b[0m \u001b[0;32mdef\u001b[0m \u001b[0mcomet_tail_props\u001b[0m\u001b[0;34m(\u001b[0m\u001b[0mfile_path_str\u001b[0m\u001b[0;34m,\u001b[0m \u001b[0msave_segmentation\u001b[0m\u001b[0;34m)\u001b[0m\u001b[0;34m:\u001b[0m\u001b[0;34m\u001b[0m\u001b[0;34m\u001b[0m\u001b[0m\n\u001b[1;32m    170\u001b[0m     \u001b[0mc0_im\u001b[0m\u001b[0;34m,\u001b[0m \u001b[0mc1_im\u001b[0m\u001b[0;34m,\u001b[0m \u001b[0mc2_im\u001b[0m \u001b[0;34m=\u001b[0m \u001b[0mload_stack\u001b[0m\u001b[0;34m(\u001b[0m\u001b[0mfile_path_str\u001b[0m\u001b[0;34m)\u001b[0m\u001b[0;34m\u001b[0m\u001b[0;34m\u001b[0m\u001b[0m\n\u001b[0;32m--> 171\u001b[0;31m     \u001b[0mbead_bw_im\u001b[0m \u001b[0;34m=\u001b[0m \u001b[0msegment_bead\u001b[0m\u001b[0;34m(\u001b[0m\u001b[0mc0_im\u001b[0m\u001b[0;34m)\u001b[0m\u001b[0;34m\u001b[0m\u001b[0;34m\u001b[0m\u001b[0m\n\u001b[0m\u001b[1;32m    172\u001b[0m     \u001b[0mcomposite_im\u001b[0m \u001b[0;34m=\u001b[0m \u001b[0mmake_composite\u001b[0m\u001b[0;34m(\u001b[0m\u001b[0mc0_im\u001b[0m\u001b[0;34m,\u001b[0m \u001b[0mc1_im\u001b[0m\u001b[0;34m,\u001b[0m \u001b[0mc2_im\u001b[0m\u001b[0;34m)\u001b[0m\u001b[0;34m\u001b[0m\u001b[0;34m\u001b[0m\u001b[0m\n\u001b[1;32m    173\u001b[0m     \u001b[0mcomposite_bw_im\u001b[0m \u001b[0;34m=\u001b[0m \u001b[0msegment_composite\u001b[0m\u001b[0;34m(\u001b[0m\u001b[0mcomposite_im\u001b[0m\u001b[0;34m)\u001b[0m\u001b[0;34m\u001b[0m\u001b[0;34m\u001b[0m\u001b[0m\n",
      "\u001b[0;32m~/github/postdoc/actin_assembly/bead_motility/bead_motility.py\u001b[0m in \u001b[0;36msegment_bead\u001b[0;34m(raw_im)\u001b[0m\n\u001b[1;32m     61\u001b[0m \u001b[0;34m\u001b[0m\u001b[0m\n\u001b[1;32m     62\u001b[0m \u001b[0;32mdef\u001b[0m \u001b[0msegment_bead\u001b[0m\u001b[0;34m(\u001b[0m\u001b[0mraw_im\u001b[0m\u001b[0;34m)\u001b[0m\u001b[0;34m:\u001b[0m\u001b[0;34m\u001b[0m\u001b[0;34m\u001b[0m\u001b[0m\n\u001b[0;32m---> 63\u001b[0;31m     \u001b[0mclosed_im\u001b[0m \u001b[0;34m=\u001b[0m \u001b[0mopen_close\u001b[0m\u001b[0;34m(\u001b[0m\u001b[0mraw_im\u001b[0m\u001b[0;34m,\u001b[0m \u001b[0;36m6\u001b[0m\u001b[0;34m)\u001b[0m\u001b[0;34m\u001b[0m\u001b[0;34m\u001b[0m\u001b[0m\n\u001b[0m\u001b[1;32m     64\u001b[0m     \u001b[0mbw1_im\u001b[0m \u001b[0;34m=\u001b[0m \u001b[0mclosed_im\u001b[0m \u001b[0;34m>\u001b[0m \u001b[0mthreshold_isodata\u001b[0m\u001b[0;34m(\u001b[0m\u001b[0mclosed_im\u001b[0m\u001b[0;34m)\u001b[0m\u001b[0;34m\u001b[0m\u001b[0;34m\u001b[0m\u001b[0m\n\u001b[1;32m     65\u001b[0m     \u001b[0mbw2_im\u001b[0m \u001b[0;34m=\u001b[0m \u001b[0mbinary_fill_holes\u001b[0m\u001b[0;34m(\u001b[0m\u001b[0mbw1_im\u001b[0m\u001b[0;34m)\u001b[0m\u001b[0;34m\u001b[0m\u001b[0;34m\u001b[0m\u001b[0m\n",
      "\u001b[0;32m~/github/postdoc/actin_assembly/bead_motility/bead_motility.py\u001b[0m in \u001b[0;36mopen_close\u001b[0;34m(raw_im, radius)\u001b[0m\n\u001b[1;32m     39\u001b[0m \u001b[0;34m\u001b[0m\u001b[0m\n\u001b[1;32m     40\u001b[0m \u001b[0;32mdef\u001b[0m \u001b[0mopen_close\u001b[0m\u001b[0;34m(\u001b[0m\u001b[0mraw_im\u001b[0m\u001b[0;34m,\u001b[0m \u001b[0mradius\u001b[0m\u001b[0;34m)\u001b[0m\u001b[0;34m:\u001b[0m\u001b[0;34m\u001b[0m\u001b[0;34m\u001b[0m\u001b[0m\n\u001b[0;32m---> 41\u001b[0;31m     \u001b[0meroded_im\u001b[0m \u001b[0;34m=\u001b[0m \u001b[0merosion\u001b[0m\u001b[0;34m(\u001b[0m\u001b[0mraw_im\u001b[0m\u001b[0;34m,\u001b[0m \u001b[0mdisk\u001b[0m\u001b[0;34m(\u001b[0m\u001b[0mradius\u001b[0m\u001b[0;34m)\u001b[0m\u001b[0;34m)\u001b[0m\u001b[0;34m\u001b[0m\u001b[0;34m\u001b[0m\u001b[0m\n\u001b[0m\u001b[1;32m     42\u001b[0m     \u001b[0mopened_im\u001b[0m \u001b[0;34m=\u001b[0m \u001b[0mreconstruction\u001b[0m\u001b[0;34m(\u001b[0m\u001b[0meroded_im\u001b[0m\u001b[0;34m,\u001b[0m \u001b[0mraw_im\u001b[0m\u001b[0;34m)\u001b[0m\u001b[0;34m\u001b[0m\u001b[0;34m\u001b[0m\u001b[0m\n\u001b[1;32m     43\u001b[0m     \u001b[0mdilated_im\u001b[0m \u001b[0;34m=\u001b[0m \u001b[0mdilation\u001b[0m\u001b[0;34m(\u001b[0m\u001b[0mopened_im\u001b[0m\u001b[0;34m,\u001b[0m \u001b[0mdisk\u001b[0m\u001b[0;34m(\u001b[0m\u001b[0mradius\u001b[0m\u001b[0;34m)\u001b[0m\u001b[0;34m)\u001b[0m\u001b[0;34m\u001b[0m\u001b[0;34m\u001b[0m\u001b[0m\n",
      "\u001b[0;32m~/anaconda3/lib/python3.8/site-packages/skimage/morphology/misc.py\u001b[0m in \u001b[0;36mfunc_out\u001b[0;34m(image, selem, *args, **kwargs)\u001b[0m\n\u001b[1;32m     37\u001b[0m         \u001b[0;32mif\u001b[0m \u001b[0mselem\u001b[0m \u001b[0;32mis\u001b[0m \u001b[0;32mNone\u001b[0m\u001b[0;34m:\u001b[0m\u001b[0;34m\u001b[0m\u001b[0;34m\u001b[0m\u001b[0m\n\u001b[1;32m     38\u001b[0m             \u001b[0mselem\u001b[0m \u001b[0;34m=\u001b[0m \u001b[0m_default_selem\u001b[0m\u001b[0;34m(\u001b[0m\u001b[0mimage\u001b[0m\u001b[0;34m.\u001b[0m\u001b[0mndim\u001b[0m\u001b[0;34m)\u001b[0m\u001b[0;34m\u001b[0m\u001b[0;34m\u001b[0m\u001b[0m\n\u001b[0;32m---> 39\u001b[0;31m         \u001b[0;32mreturn\u001b[0m \u001b[0mfunc\u001b[0m\u001b[0;34m(\u001b[0m\u001b[0mimage\u001b[0m\u001b[0;34m,\u001b[0m \u001b[0mselem\u001b[0m\u001b[0;34m=\u001b[0m\u001b[0mselem\u001b[0m\u001b[0;34m,\u001b[0m \u001b[0;34m*\u001b[0m\u001b[0margs\u001b[0m\u001b[0;34m,\u001b[0m \u001b[0;34m**\u001b[0m\u001b[0mkwargs\u001b[0m\u001b[0;34m)\u001b[0m\u001b[0;34m\u001b[0m\u001b[0;34m\u001b[0m\u001b[0m\n\u001b[0m\u001b[1;32m     40\u001b[0m \u001b[0;34m\u001b[0m\u001b[0m\n\u001b[1;32m     41\u001b[0m     \u001b[0;32mreturn\u001b[0m \u001b[0mfunc_out\u001b[0m\u001b[0;34m\u001b[0m\u001b[0;34m\u001b[0m\u001b[0m\n",
      "\u001b[0;32m~/anaconda3/lib/python3.8/site-packages/skimage/morphology/grey.py\u001b[0m in \u001b[0;36merosion\u001b[0;34m(image, selem, out, shift_x, shift_y)\u001b[0m\n\u001b[1;32m    183\u001b[0m     \u001b[0;32mif\u001b[0m \u001b[0mout\u001b[0m \u001b[0;32mis\u001b[0m \u001b[0;32mNone\u001b[0m\u001b[0;34m:\u001b[0m\u001b[0;34m\u001b[0m\u001b[0;34m\u001b[0m\u001b[0m\n\u001b[1;32m    184\u001b[0m         \u001b[0mout\u001b[0m \u001b[0;34m=\u001b[0m \u001b[0mnp\u001b[0m\u001b[0;34m.\u001b[0m\u001b[0mempty_like\u001b[0m\u001b[0;34m(\u001b[0m\u001b[0mimage\u001b[0m\u001b[0;34m)\u001b[0m\u001b[0;34m\u001b[0m\u001b[0;34m\u001b[0m\u001b[0m\n\u001b[0;32m--> 185\u001b[0;31m     \u001b[0mndi\u001b[0m\u001b[0;34m.\u001b[0m\u001b[0mgrey_erosion\u001b[0m\u001b[0;34m(\u001b[0m\u001b[0mimage\u001b[0m\u001b[0;34m,\u001b[0m \u001b[0mfootprint\u001b[0m\u001b[0;34m=\u001b[0m\u001b[0mselem\u001b[0m\u001b[0;34m,\u001b[0m \u001b[0moutput\u001b[0m\u001b[0;34m=\u001b[0m\u001b[0mout\u001b[0m\u001b[0;34m)\u001b[0m\u001b[0;34m\u001b[0m\u001b[0;34m\u001b[0m\u001b[0m\n\u001b[0m\u001b[1;32m    186\u001b[0m     \u001b[0;32mreturn\u001b[0m \u001b[0mout\u001b[0m\u001b[0;34m\u001b[0m\u001b[0;34m\u001b[0m\u001b[0m\n\u001b[1;32m    187\u001b[0m \u001b[0;34m\u001b[0m\u001b[0m\n",
      "\u001b[0;32m~/anaconda3/lib/python3.8/site-packages/scipy/ndimage/morphology.py\u001b[0m in \u001b[0;36mgrey_erosion\u001b[0;34m(input, size, footprint, structure, output, mode, cval, origin)\u001b[0m\n\u001b[1;32m   1219\u001b[0m         \u001b[0;32mraise\u001b[0m \u001b[0mValueError\u001b[0m\u001b[0;34m(\u001b[0m\u001b[0;34m\"size, footprint, or structure must be specified\"\u001b[0m\u001b[0;34m)\u001b[0m\u001b[0;34m\u001b[0m\u001b[0;34m\u001b[0m\u001b[0m\n\u001b[1;32m   1220\u001b[0m \u001b[0;34m\u001b[0m\u001b[0m\n\u001b[0;32m-> 1221\u001b[0;31m     return filters._min_or_max_filter(input, size, footprint, structure,\n\u001b[0m\u001b[1;32m   1222\u001b[0m                                       output, mode, cval, origin, 1)\n\u001b[1;32m   1223\u001b[0m \u001b[0;34m\u001b[0m\u001b[0m\n",
      "\u001b[0;32m~/anaconda3/lib/python3.8/site-packages/scipy/ndimage/filters.py\u001b[0m in \u001b[0;36m_min_or_max_filter\u001b[0;34m(input, size, footprint, structure, output, mode, cval, origin, minimum)\u001b[0m\n\u001b[1;32m   1148\u001b[0m                 \"footprints\")\n\u001b[1;32m   1149\u001b[0m         \u001b[0mmode\u001b[0m \u001b[0;34m=\u001b[0m \u001b[0m_ni_support\u001b[0m\u001b[0;34m.\u001b[0m\u001b[0m_extend_mode_to_code\u001b[0m\u001b[0;34m(\u001b[0m\u001b[0mmode\u001b[0m\u001b[0;34m)\u001b[0m\u001b[0;34m\u001b[0m\u001b[0;34m\u001b[0m\u001b[0m\n\u001b[0;32m-> 1150\u001b[0;31m         _nd_image.min_or_max_filter(input, footprint, structure, output,\n\u001b[0m\u001b[1;32m   1151\u001b[0m                                     mode, cval, origins, minimum)\n\u001b[1;32m   1152\u001b[0m     \u001b[0;32mif\u001b[0m \u001b[0mtemp_needed\u001b[0m\u001b[0;34m:\u001b[0m\u001b[0;34m\u001b[0m\u001b[0;34m\u001b[0m\u001b[0m\n",
      "\u001b[0;31mKeyboardInterrupt\u001b[0m: "
     ]
    }
   ],
   "source": [
    "egfp100_df = batch_measure_npf_fluor(egfp100_folder, save_segmentation=True)\n",
    "egfp75_folder = batch_measure_npf_fluor(egfp75_folder, save_segmentation=True)\n",
    "egfp50_folder = batch_measure_npf_fluor(egfp50_folder, save_segmentation=True)\n",
    "egfp25_folder = batch_measure_npf_fluor(egfp25_folder, save_segmentation=True)"
   ]
  },
  {
   "cell_type": "code",
   "execution_count": null,
   "id": "4b767ba9",
   "metadata": {},
   "outputs": [],
   "source": []
  }
 ],
 "metadata": {
  "kernelspec": {
   "display_name": "Python 3",
   "language": "python",
   "name": "python3"
  },
  "language_info": {
   "codemirror_mode": {
    "name": "ipython",
    "version": 3
   },
   "file_extension": ".py",
   "mimetype": "text/x-python",
   "name": "python",
   "nbconvert_exporter": "python",
   "pygments_lexer": "ipython3",
   "version": "3.8.8"
  }
 },
 "nbformat": 4,
 "nbformat_minor": 5
}
