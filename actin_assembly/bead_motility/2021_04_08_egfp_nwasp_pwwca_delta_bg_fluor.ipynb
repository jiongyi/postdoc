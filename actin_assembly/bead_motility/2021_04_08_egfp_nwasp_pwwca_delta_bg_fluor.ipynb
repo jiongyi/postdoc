{
 "cells": [
  {
   "cell_type": "code",
   "execution_count": 1,
   "id": "1c2bb65a",
   "metadata": {},
   "outputs": [],
   "source": [
    "from bead_motility import *"
   ]
  },
  {
   "cell_type": "code",
   "execution_count": 2,
   "id": "a6a9b29d",
   "metadata": {},
   "outputs": [],
   "source": [
    "egfp100_folder = '/home/jiongyi/Documents/lab_data/wasp_kinetics_architecture/n_wasp/2021_04_07/100nM_240min_pwwca'\n",
    "egfp75_folder = '/home/jiongyi/Documents/lab_data/wasp_kinetics_architecture/n_wasp/2021_04_07/75nM_240min_pwwca'\n",
    "egfp50_folder = '/home/jiongyi/Documents/lab_data/wasp_kinetics_architecture/n_wasp/2021_04_07/50nM_240min_pwwca'\n",
    "egfp25_folder = '/home/jiongyi/Documents/lab_data/wasp_kinetics_architecture/n_wasp/2021_04_07/25nM_240min_pwwca'"
   ]
  },
  {
   "cell_type": "code",
   "execution_count": 3,
   "id": "e18aafaf",
   "metadata": {},
   "outputs": [
    {
     "name": "stdout",
     "output_type": "stream",
     "text": [
      "No beads found\n",
      "No beads found\n",
      "No beads found\n",
      "No beads found\n",
      "No beads found\n",
      "No beads found\n",
      "No beads found\n"
     ]
    }
   ],
   "source": [
    "egfp100_df = batch_measure_npf_fluor(egfp100_folder, save_segmentation=True)\n",
    "egfp75_folder = batch_measure_npf_fluor(egfp75_folder, save_segmentation=True)\n",
    "egfp50_folder = batch_measure_npf_fluor(egfp50_folder, save_segmentation=True)\n",
    "egfp25_folder = batch_measure_npf_fluor(egfp25_folder, save_segmentation=True)"
   ]
  },
  {
   "cell_type": "code",
   "execution_count": 10,
   "id": "8b303c2a",
   "metadata": {},
   "outputs": [],
   "source": [
    "%matplotlib inline"
   ]
  },
  {
   "cell_type": "code",
   "execution_count": 11,
   "id": "63f6db10",
   "metadata": {},
   "outputs": [],
   "source": [
    "import matplotlib.pyplot as plt"
   ]
  },
  {
   "cell_type": "code",
   "execution_count": 25,
   "id": "e7f23991",
   "metadata": {},
   "outputs": [
    {
     "data": {
      "text/plain": [
       "Text(0, 0.5, 'Mean EGFP fluorescence')"
      ]
     },
     "execution_count": 25,
     "metadata": {},
     "output_type": "execute_result"
    },
    {
     "data": {
      "image/png": "[encoded data removed]",
      "text/plain": [
       "<Figure size 288x288 with 1 Axes>"
      ]
     },
     "metadata": {
      "needs_background": "light"
     },
     "output_type": "display_data"
    }
   ],
   "source": [
    "fig_hand, axes_hand = plt.subplots()\n",
    "fig_hand.set_figheight(4)\n",
    "fig_hand.set_figwidth(4)\n",
    "axes_hand.errorbar([25, 50, 75, 100], [egfp25_folder['npf_fluor'].mean(),\n",
    "                                    egfp50_folder['npf_fluor'].mean(),\n",
    "                                    egfp75_folder['npf_fluor'].mean(),\n",
    "                                    egfp100_df['npf_fluor'].mean()],\n",
    "                  [egfp25_folder['npf_fluor'].std(),\n",
    "                  egfp50_folder['npf_fluor'].std(),\n",
    "                  egfp75_folder['npf_fluor'].std(),\n",
    "                  egfp100_df['npf_fluor'].std()], marker='o', linewidth=2)\n",
    "axes_hand.set_xlabel(\"[his10-egfp-n-wasp-pwwca] (nM)\", fontsize=12)\n",
    "axes_hand.set_ylabel(\"Mean EGFP fluorescence\", fontsize=12)"
   ]
  },
  {
   "cell_type": "code",
   "execution_count": null,
   "id": "3fed54c4",
   "metadata": {},
   "outputs": [],
   "source": []
  }
 ],
 "metadata": {
  "kernelspec": {
   "display_name": "Python 3",
   "language": "python",
   "name": "python3"
  },
  "language_info": {
   "codemirror_mode": {
    "name": "ipython",
    "version": 3
   },
   "file_extension": ".py",
   "mimetype": "text/x-python",
   "name": "python",
   "nbconvert_exporter": "python",
   "pygments_lexer": "ipython3",
   "version": "3.8.8"
  }
 },
 "nbformat": 4,
 "nbformat_minor": 5
}
